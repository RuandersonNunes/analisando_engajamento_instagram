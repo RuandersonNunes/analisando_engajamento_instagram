{
 "cells": [
  {
   "cell_type": "markdown",
   "metadata": {},
   "source": [
    "# Analisando o engajamento do Instagram\n",
    "\n",
    "### O que queremos responder?\n",
    "- Qual tipo de conteúdo **mais engaja** no Instagram da minha empresa?\n",
    "<br><br>\n",
    "- Temos a base de dados do Instagram **desde que o usuário começou a postar na marca até o dia 27/março**\n",
    "<br><br>\n",
    "- Ele também dá alguns direcionamentos:\n",
    "    - Podem ignorar a coluna visualizações, queremos entender apenas curtidas, comentários e interações\n",
    "    - Tags vazias é que realmente não possuem tag (favor tratar como vazio)"
   ]
  },
  {
   "cell_type": "code",
   "execution_count": null,
   "metadata": {},
   "outputs": [],
   "source": [
    "# Importando o pandas\n",
    "import pandas as pd\n",
    "df = pd.read_excel('engajamento.xlsx')\n",
    "df.head()"
   ]
  }
 ],
 "metadata": {
  "kernelspec": {
   "display_name": ".venv",
   "language": "python",
   "name": "python3"
  },
  "language_info": {
   "codemirror_mode": {
    "name": "ipython",
    "version": 3
   },
   "file_extension": ".py",
   "mimetype": "text/x-python",
   "name": "python",
   "nbconvert_exporter": "python",
   "pygments_lexer": "ipython3",
   "version": "3.12.3"
  }
 },
 "nbformat": 4,
 "nbformat_minor": 2
}
